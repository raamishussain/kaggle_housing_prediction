{
 "cells": [
  {
   "cell_type": "markdown",
   "metadata": {},
   "source": [
    "# Kaggle Housing Price Prediction\n",
    "\n",
    "This notebook walks through building a machine learning model to predict\n",
    "housing prices from the Kaggle Advanced Regression Techniques competition:\n",
    "https://www.kaggle.com/c/house-prices-advanced-regression-techniques\n"
   ]
  },
  {
   "cell_type": "code",
   "execution_count": 1,
   "metadata": {},
   "outputs": [],
   "source": [
    "import numpy as np\n",
    "import pandas as pd\n",
    "import matplotlib.pyplot as plt\n",
    "%matplotlib inline\n",
    "import seaborn as sns\n",
    "\n",
    "import tensorflow as tf"
   ]
  },
  {
   "cell_type": "code",
   "execution_count": 2,
   "metadata": {},
   "outputs": [],
   "source": [
    "# Load training and testing data\n",
    "train = pd.read_csv('data/kaggle/train.csv')\n",
    "test  = pd.read_csv('data/kaggle/test.csv')"
   ]
  },
  {
   "cell_type": "code",
   "execution_count": 3,
   "metadata": {},
   "outputs": [
    {
     "data": {
      "text/html": [
       "<div>\n",
       "<style scoped>\n",
       "    .dataframe tbody tr th:only-of-type {\n",
       "        vertical-align: middle;\n",
       "    }\n",
       "\n",
       "    .dataframe tbody tr th {\n",
       "        vertical-align: top;\n",
       "    }\n",
       "\n",
       "    .dataframe thead th {\n",
       "        text-align: right;\n",
       "    }\n",
       "</style>\n",
       "<table border=\"1\" class=\"dataframe\">\n",
       "  <thead>\n",
       "    <tr style=\"text-align: right;\">\n",
       "      <th></th>\n",
       "      <th>Id</th>\n",
       "      <th>MSSubClass</th>\n",
       "      <th>MSZoning</th>\n",
       "      <th>LotFrontage</th>\n",
       "      <th>LotArea</th>\n",
       "      <th>Street</th>\n",
       "      <th>Alley</th>\n",
       "      <th>LotShape</th>\n",
       "      <th>LandContour</th>\n",
       "      <th>Utilities</th>\n",
       "      <th>...</th>\n",
       "      <th>PoolArea</th>\n",
       "      <th>PoolQC</th>\n",
       "      <th>Fence</th>\n",
       "      <th>MiscFeature</th>\n",
       "      <th>MiscVal</th>\n",
       "      <th>MoSold</th>\n",
       "      <th>YrSold</th>\n",
       "      <th>SaleType</th>\n",
       "      <th>SaleCondition</th>\n",
       "      <th>SalePrice</th>\n",
       "    </tr>\n",
       "  </thead>\n",
       "  <tbody>\n",
       "    <tr>\n",
       "      <th>0</th>\n",
       "      <td>1</td>\n",
       "      <td>60</td>\n",
       "      <td>RL</td>\n",
       "      <td>65.0</td>\n",
       "      <td>8450</td>\n",
       "      <td>Pave</td>\n",
       "      <td>NaN</td>\n",
       "      <td>Reg</td>\n",
       "      <td>Lvl</td>\n",
       "      <td>AllPub</td>\n",
       "      <td>...</td>\n",
       "      <td>0</td>\n",
       "      <td>NaN</td>\n",
       "      <td>NaN</td>\n",
       "      <td>NaN</td>\n",
       "      <td>0</td>\n",
       "      <td>2</td>\n",
       "      <td>2008</td>\n",
       "      <td>WD</td>\n",
       "      <td>Normal</td>\n",
       "      <td>208500</td>\n",
       "    </tr>\n",
       "    <tr>\n",
       "      <th>1</th>\n",
       "      <td>2</td>\n",
       "      <td>20</td>\n",
       "      <td>RL</td>\n",
       "      <td>80.0</td>\n",
       "      <td>9600</td>\n",
       "      <td>Pave</td>\n",
       "      <td>NaN</td>\n",
       "      <td>Reg</td>\n",
       "      <td>Lvl</td>\n",
       "      <td>AllPub</td>\n",
       "      <td>...</td>\n",
       "      <td>0</td>\n",
       "      <td>NaN</td>\n",
       "      <td>NaN</td>\n",
       "      <td>NaN</td>\n",
       "      <td>0</td>\n",
       "      <td>5</td>\n",
       "      <td>2007</td>\n",
       "      <td>WD</td>\n",
       "      <td>Normal</td>\n",
       "      <td>181500</td>\n",
       "    </tr>\n",
       "    <tr>\n",
       "      <th>2</th>\n",
       "      <td>3</td>\n",
       "      <td>60</td>\n",
       "      <td>RL</td>\n",
       "      <td>68.0</td>\n",
       "      <td>11250</td>\n",
       "      <td>Pave</td>\n",
       "      <td>NaN</td>\n",
       "      <td>IR1</td>\n",
       "      <td>Lvl</td>\n",
       "      <td>AllPub</td>\n",
       "      <td>...</td>\n",
       "      <td>0</td>\n",
       "      <td>NaN</td>\n",
       "      <td>NaN</td>\n",
       "      <td>NaN</td>\n",
       "      <td>0</td>\n",
       "      <td>9</td>\n",
       "      <td>2008</td>\n",
       "      <td>WD</td>\n",
       "      <td>Normal</td>\n",
       "      <td>223500</td>\n",
       "    </tr>\n",
       "    <tr>\n",
       "      <th>3</th>\n",
       "      <td>4</td>\n",
       "      <td>70</td>\n",
       "      <td>RL</td>\n",
       "      <td>60.0</td>\n",
       "      <td>9550</td>\n",
       "      <td>Pave</td>\n",
       "      <td>NaN</td>\n",
       "      <td>IR1</td>\n",
       "      <td>Lvl</td>\n",
       "      <td>AllPub</td>\n",
       "      <td>...</td>\n",
       "      <td>0</td>\n",
       "      <td>NaN</td>\n",
       "      <td>NaN</td>\n",
       "      <td>NaN</td>\n",
       "      <td>0</td>\n",
       "      <td>2</td>\n",
       "      <td>2006</td>\n",
       "      <td>WD</td>\n",
       "      <td>Abnorml</td>\n",
       "      <td>140000</td>\n",
       "    </tr>\n",
       "    <tr>\n",
       "      <th>4</th>\n",
       "      <td>5</td>\n",
       "      <td>60</td>\n",
       "      <td>RL</td>\n",
       "      <td>84.0</td>\n",
       "      <td>14260</td>\n",
       "      <td>Pave</td>\n",
       "      <td>NaN</td>\n",
       "      <td>IR1</td>\n",
       "      <td>Lvl</td>\n",
       "      <td>AllPub</td>\n",
       "      <td>...</td>\n",
       "      <td>0</td>\n",
       "      <td>NaN</td>\n",
       "      <td>NaN</td>\n",
       "      <td>NaN</td>\n",
       "      <td>0</td>\n",
       "      <td>12</td>\n",
       "      <td>2008</td>\n",
       "      <td>WD</td>\n",
       "      <td>Normal</td>\n",
       "      <td>250000</td>\n",
       "    </tr>\n",
       "  </tbody>\n",
       "</table>\n",
       "<p>5 rows × 81 columns</p>\n",
       "</div>"
      ],
      "text/plain": [
       "   Id  MSSubClass MSZoning  LotFrontage  LotArea Street Alley LotShape  \\\n",
       "0   1          60       RL         65.0     8450   Pave   NaN      Reg   \n",
       "1   2          20       RL         80.0     9600   Pave   NaN      Reg   \n",
       "2   3          60       RL         68.0    11250   Pave   NaN      IR1   \n",
       "3   4          70       RL         60.0     9550   Pave   NaN      IR1   \n",
       "4   5          60       RL         84.0    14260   Pave   NaN      IR1   \n",
       "\n",
       "  LandContour Utilities  ... PoolArea PoolQC Fence MiscFeature MiscVal MoSold  \\\n",
       "0         Lvl    AllPub  ...        0    NaN   NaN         NaN       0      2   \n",
       "1         Lvl    AllPub  ...        0    NaN   NaN         NaN       0      5   \n",
       "2         Lvl    AllPub  ...        0    NaN   NaN         NaN       0      9   \n",
       "3         Lvl    AllPub  ...        0    NaN   NaN         NaN       0      2   \n",
       "4         Lvl    AllPub  ...        0    NaN   NaN         NaN       0     12   \n",
       "\n",
       "  YrSold  SaleType  SaleCondition  SalePrice  \n",
       "0   2008        WD         Normal     208500  \n",
       "1   2007        WD         Normal     181500  \n",
       "2   2008        WD         Normal     223500  \n",
       "3   2006        WD        Abnorml     140000  \n",
       "4   2008        WD         Normal     250000  \n",
       "\n",
       "[5 rows x 81 columns]"
      ]
     },
     "execution_count": 3,
     "metadata": {},
     "output_type": "execute_result"
    }
   ],
   "source": [
    "train.head()"
   ]
  },
  {
   "cell_type": "markdown",
   "metadata": {},
   "source": [
    "## Exploratory Data Analysis\n",
    "\n",
    "In this section we will explore the data, deal with missing values\n",
    "and prep the data for training with our model."
   ]
  },
  {
   "cell_type": "code",
   "execution_count": 4,
   "metadata": {},
   "outputs": [
    {
     "data": {
      "text/plain": [
       "<AxesSubplot:>"
      ]
     },
     "execution_count": 4,
     "metadata": {},
     "output_type": "execute_result"
    },
    {
     "data": {
      "image/png": "[encoded data removed]",
      "text/plain": [
       "<Figure size 432x288 with 1 Axes>"
      ]
     },
     "metadata": {
      "needs_background": "light"
     },
     "output_type": "display_data"
    }
   ],
   "source": [
    "# Check heatmap of null values\n",
    "sns.heatmap(train.isnull(),yticklabels=False,cbar=False)"
   ]
  },
  {
   "cell_type": "code",
   "execution_count": 5,
   "metadata": {},
   "outputs": [
    {
     "name": "stdout",
     "output_type": "stream",
     "text": [
      "Dropping Alley Column\n",
      "Dropping PoolQC Column\n",
      "Dropping Fence Column\n",
      "Dropping MiscFeature Column\n"
     ]
    }
   ],
   "source": [
    "# Drop variables with more than 50% null values\n",
    "to_drop = []\n",
    "for col in train.columns:\n",
    "    if train[col].isnull().sum()/len(train) > 0.5:\n",
    "        print('Dropping %s Column' % col)\n",
    "        to_drop.append(col)\n",
    "\n",
    "# Drop Id column as well\n",
    "to_drop.append('Id')\n",
    "        \n",
    "# Drop from both training and testing data\n",
    "train = train.drop(to_drop,axis=1)\n",
    "test  = test.drop(to_drop,axis=1)"
   ]
  },
  {
   "cell_type": "code",
   "execution_count": 6,
   "metadata": {},
   "outputs": [
    {
     "name": "stdout",
     "output_type": "stream",
     "text": [
      "Need to fill values for LotFrontage\n",
      "Need to fill values for MasVnrType\n",
      "Need to fill values for MasVnrArea\n",
      "Need to fill values for BsmtQual\n",
      "Need to fill values for BsmtCond\n",
      "Need to fill values for BsmtExposure\n",
      "Need to fill values for BsmtFinType1\n",
      "Need to fill values for BsmtFinType2\n",
      "Need to fill values for Electrical\n",
      "Need to fill values for FireplaceQu\n",
      "Need to fill values for GarageType\n",
      "Need to fill values for GarageYrBlt\n",
      "Need to fill values for GarageFinish\n",
      "Need to fill values for GarageQual\n",
      "Need to fill values for GarageCond\n"
     ]
    }
   ],
   "source": [
    "# Fill in missing values for remaining variables\n",
    "for col in train.columns:\n",
    "    if train[col].isnull().sum()>0:\n",
    "        print('Need to fill values for %s' % col)"
   ]
  },
  {
   "cell_type": "code",
   "execution_count": 7,
   "metadata": {},
   "outputs": [],
   "source": [
    "train['LotFrontage']  = train['LotFrontage'].fillna(train['LotFrontage'].mean())\n",
    "train['MasVnrType']   = train['MasVnrType'].fillna(train['MasVnrType'].mode()[0])\n",
    "train['MasVnrArea']   = train['MasVnrArea'].fillna(train['MasVnrArea'].mean())\n",
    "train['BsmtCond']     = train['BsmtCond'].fillna(train['BsmtCond'].mode()[0])\n",
    "train['BsmtQual']     = train['BsmtQual'].fillna(train['BsmtQual'].mode()[0])\n",
    "train['BsmtExposure'] = train['BsmtExposure'].fillna(train['BsmtExposure'].mode()[0])\n",
    "train['BsmtFinType1'] = train['BsmtFinType1'].fillna(train['BsmtFinType1'].mode()[0])\n",
    "train['BsmtFinType2'] = train['BsmtFinType2'].fillna(train['BsmtFinType2'].mode()[0])\n",
    "train['Electrical']   = train['Electrical'].fillna(train['Electrical'].mode()[0])\n",
    "train['FireplaceQu']  = train['FireplaceQu'].fillna(train['FireplaceQu'].mode()[0])\n",
    "train['GarageType']   = train['GarageType'].fillna(train['GarageType'].mode()[0])\n",
    "train['GarageFinish'] = train['GarageFinish'].fillna(train['GarageFinish'].mode()[0])\n",
    "train['GarageQual']   = train['GarageQual'].fillna(train['GarageQual'].mode()[0])\n",
    "train['GarageCond']   = train['GarageCond'].fillna(train['GarageCond'].mode()[0])\n",
    "train['GarageYrBlt']  = train['GarageYrBlt'].fillna(train['GarageYrBlt'].mean())"
   ]
  },
  {
   "cell_type": "markdown",
   "metadata": {},
   "source": [
    "Now we have to perform the same process on the test data. Fill all missing \n",
    "values with mean or mode of the given variable."
   ]
  },
  {
   "cell_type": "code",
   "execution_count": 8,
   "metadata": {},
   "outputs": [
    {
     "name": "stdout",
     "output_type": "stream",
     "text": [
      "Need to fill values for MSZoning\n",
      "Need to fill values for LotFrontage\n",
      "Need to fill values for Utilities\n",
      "Need to fill values for Exterior1st\n",
      "Need to fill values for Exterior2nd\n",
      "Need to fill values for MasVnrType\n",
      "Need to fill values for MasVnrArea\n",
      "Need to fill values for BsmtQual\n",
      "Need to fill values for BsmtCond\n",
      "Need to fill values for BsmtExposure\n",
      "Need to fill values for BsmtFinType1\n",
      "Need to fill values for BsmtFinSF1\n",
      "Need to fill values for BsmtFinType2\n",
      "Need to fill values for BsmtFinSF2\n",
      "Need to fill values for BsmtUnfSF\n",
      "Need to fill values for TotalBsmtSF\n",
      "Need to fill values for BsmtFullBath\n",
      "Need to fill values for BsmtHalfBath\n",
      "Need to fill values for KitchenQual\n",
      "Need to fill values for Functional\n",
      "Need to fill values for FireplaceQu\n",
      "Need to fill values for GarageType\n",
      "Need to fill values for GarageYrBlt\n",
      "Need to fill values for GarageFinish\n",
      "Need to fill values for GarageCars\n",
      "Need to fill values for GarageArea\n",
      "Need to fill values for GarageQual\n",
      "Need to fill values for GarageCond\n",
      "Need to fill values for SaleType\n"
     ]
    }
   ],
   "source": [
    "# Fill in missing values for test data\n",
    "for col in test.columns:\n",
    "    if test[col].isnull().sum()>0:\n",
    "        print('Need to fill values for %s' % col)    "
   ]
  },
  {
   "cell_type": "code",
   "execution_count": 9,
   "metadata": {},
   "outputs": [],
   "source": [
    "test['MSZoning']     = test['MSZoning'].fillna(test['MSZoning'].mode()[0])\n",
    "test['LotFrontage']  = test['LotFrontage'].fillna(test['LotFrontage'].mean())\n",
    "test['Utilities']    = test['Utilities'].fillna(test['Utilities'].mode()[0])\n",
    "test['Exterior1st']  = test['Exterior1st'].fillna(test['Exterior1st'].mode()[0])\n",
    "test['Exterior2nd']  = test['Exterior2nd'].fillna(test['Exterior2nd'].mode()[0])\n",
    "test['MasVnrType']   = test['MasVnrType'].fillna(test['MasVnrType'].mode()[0])\n",
    "test['MasVnrArea']   = test['MasVnrArea'].fillna(test['MasVnrArea'].mean())\n",
    "test['BsmtCond']     = test['BsmtCond'].fillna(test['BsmtCond'].mode()[0])\n",
    "test['BsmtQual']     = test['BsmtQual'].fillna(test['BsmtQual'].mode()[0])\n",
    "test['BsmtExposure'] = test['BsmtExposure'].fillna(test['BsmtExposure'].mode()[0])\n",
    "test['BsmtFinType1'] = test['BsmtFinType1'].fillna(test['BsmtFinType1'].mode()[0])\n",
    "test['BsmtFinType2'] = test['BsmtFinType2'].fillna(test['BsmtFinType2'].mode()[0])\n",
    "test['BsmtFinSF1']   = test['BsmtFinSF1'].fillna(test['BsmtFinSF1'].mean())\n",
    "test['BsmtFinSF2']   = test['BsmtFinSF2'].fillna(test['BsmtFinSF2'].mean())\n",
    "test['BsmtUnfSF']    = test['BsmtUnfSF'].fillna(test['BsmtUnfSF'].mean())\n",
    "test['TotalBsmtSF']  = test['TotalBsmtSF'].fillna(test['TotalBsmtSF'].mean())\n",
    "test['BsmtFullBath'] = test['BsmtFullBath'].fillna(test['BsmtFullBath'].mode()[0])\n",
    "test['BsmtHalfBath'] = test['BsmtHalfBath'].fillna(test['BsmtHalfBath'].mode()[0])\n",
    "test['KitchenQual']  = test['KitchenQual'].fillna(test['KitchenQual'].mode()[0])\n",
    "test['Functional']   = test['Functional'].fillna(test['Functional'].mode()[0])\n",
    "test['GarageCars']   = test['GarageCars'].fillna(test['GarageCars'].mean())\n",
    "test['GarageArea']   = test['GarageArea'].fillna(test['GarageArea'].mean())\n",
    "test['GarageYrBlt']   = test['GarageYrBlt'].fillna(test['GarageYrBlt'].mean())\n",
    "test['SaleType']     = test['SaleType'].fillna(test['SaleType'].mode()[0])\n",
    "test['Electrical']   = test['Electrical'].fillna(test['Electrical'].mode()[0])\n",
    "test['FireplaceQu']  = test['FireplaceQu'].fillna(test['FireplaceQu'].mode()[0])\n",
    "test['GarageType']   = test['GarageType'].fillna(test['GarageType'].mode()[0])\n",
    "test['GarageFinish'] = test['GarageFinish'].fillna(test['GarageFinish'].mode()[0])\n",
    "test['GarageQual']   = test['GarageQual'].fillna(test['GarageQual'].mode()[0])\n",
    "test['GarageCond']   = test['GarageCond'].fillna(test['GarageCond'].mode()[0])"
   ]
  },
  {
   "cell_type": "markdown",
   "metadata": {},
   "source": [
    "We have successfully filled all none values and dropped variables which we\n",
    "won't be needing for our model (variables with more than 50% null value rate)\n",
    "\n",
    "Now we need to one hot encode our categorical variables to make them compatible\n",
    "with machine learning models.\n",
    "\n",
    "Note that we want to combine our training and testing data before we do this to make\n",
    "sure that our one hot encoding takes into account all classes between both the testing \n",
    "and training data."
   ]
  },
  {
   "cell_type": "code",
   "execution_count": 10,
   "metadata": {},
   "outputs": [],
   "source": [
    "def onehot_encode(df,columns):\n",
    "    r''' One hot encode all categorical variables in the \n",
    "        given dataframe. \n",
    "    \n",
    "    Parameters:\n",
    "    -----------\n",
    "    df: pd dataframe\n",
    "        Pandas Dataframe containing data\n",
    "    columns: list\n",
    "        List of columns to one hot encode\n",
    "    '''\n",
    "    \n",
    "    for col in columns:\n",
    "        dummy = pd.get_dummies(df[col],drop_first=True)\n",
    "        \n",
    "        df.drop([col],axis=1,inplace=True)\n",
    "        df = pd.concat([df,dummy],axis=1)\n",
    "    \n",
    "    return df"
   ]
  },
  {
   "cell_type": "code",
   "execution_count": 11,
   "metadata": {},
   "outputs": [
    {
     "name": "stdout",
     "output_type": "stream",
     "text": [
      "(2919, 76)\n"
     ]
    }
   ],
   "source": [
    "# Combine training and testing data. Keep track of size of training\n",
    "# data when we want to split them again\n",
    "train_size = len(train)\n",
    "full_data = pd.concat([train,test],axis=0)\n",
    "print(full_data.shape)\n",
    "\n",
    "# # Find all categorical columns and one hot encode them\n",
    "columns=['MSZoning','Street','LotShape','LandContour','Utilities','LotConfig',\n",
    "         'LandSlope','Neighborhood','Condition2','BldgType','Condition1','HouseStyle',\n",
    "         'SaleType','SaleCondition','ExterCond','ExterQual','Foundation','BsmtQual',\n",
    "         'BsmtCond','BsmtExposure','BsmtFinType1','BsmtFinType2','RoofStyle','RoofMatl',\n",
    "         'Exterior1st','Exterior2nd','MasVnrType','Heating','HeatingQC','CentralAir',\n",
    "         'Electrical','KitchenQual','Functional','FireplaceQu','GarageType',\n",
    "         'GarageFinish','GarageQual','GarageCond','PavedDrive']\n",
    "\n",
    "full_data = onehot_encode(full_data,columns)\n"
   ]
  },
  {
   "cell_type": "code",
   "execution_count": 12,
   "metadata": {},
   "outputs": [
    {
     "name": "stdout",
     "output_type": "stream",
     "text": [
      "(2919, 237)\n",
      "(2919, 177)\n"
     ]
    }
   ],
   "source": [
    "# The one hot encoding function will create duplicate columns\n",
    "# so the following line of code will get rid of the duplicates\n",
    "print(full_data.shape)\n",
    "full_data = full_data.loc[:,~full_data.columns.duplicated()]\n",
    "print(full_data.shape)"
   ]
  },
  {
   "cell_type": "markdown",
   "metadata": {},
   "source": [
    "## Build and Train Models\n",
    "\n",
    "In this section we will select several models and train them on the\n",
    "testing data set."
   ]
  },
  {
   "cell_type": "code",
   "execution_count": 13,
   "metadata": {},
   "outputs": [],
   "source": [
    "from sklearn.ensemble      import RandomForestRegressor\n",
    "from sklearn               import metrics"
   ]
  },
  {
   "cell_type": "code",
   "execution_count": 15,
   "metadata": {},
   "outputs": [],
   "source": [
    "# Remake training and testing data\n",
    "train = full_data[:train_size]\n",
    "test  = full_data[train_size:]\n",
    "\n",
    "# Split training data into features and labels\n",
    "x_train = train.drop(['SalePrice'],axis=1)\n",
    "y_train = train['SalePrice']"
   ]
  },
  {
   "cell_type": "code",
   "execution_count": 16,
   "metadata": {},
   "outputs": [
    {
     "data": {
      "text/plain": [
       "RandomForestRegressor(n_estimators=500)"
      ]
     },
     "execution_count": 16,
     "metadata": {},
     "output_type": "execute_result"
    }
   ],
   "source": [
    "regressor = RandomForestRegressor(n_estimators=500)\n",
    "regressor.fit(x_train,y_train)"
   ]
  },
  {
   "cell_type": "code",
   "execution_count": 17,
   "metadata": {},
   "outputs": [],
   "source": [
    "y_pred = regressor.predict(x_train)"
   ]
  },
  {
   "cell_type": "code",
   "execution_count": 18,
   "metadata": {},
   "outputs": [
    {
     "name": "stdout",
     "output_type": "stream",
     "text": [
      "Root mean squared error on training set: 10774.873\n"
     ]
    }
   ],
   "source": [
    "rmse = np.sqrt(metrics.mean_squared_error(y_pred,y_train))\n",
    "print('Root mean squared error on training set: %.3f' % rmse)"
   ]
  },
  {
   "cell_type": "code",
   "execution_count": 19,
   "metadata": {},
   "outputs": [
    {
     "data": {
      "image/png": "[encoded data removed]",
      "text/plain": [
       "<Figure size 432x288 with 1 Axes>"
      ]
     },
     "metadata": {
      "needs_background": "light"
     },
     "output_type": "display_data"
    }
   ],
   "source": [
    "# Plot the results of the training set\n",
    "plt.scatter(y_train,y_pred)\n",
    "plt.plot(np.linspace(0,800000,100),np.linspace(0,800000,100),color='k',linestyle='--')\n",
    "plt.xlabel('True Values ($)',fontsize=13)\n",
    "plt.ylabel('Predicted Values ($)',fontsize=13)\n",
    "plt.show()\n"
   ]
  },
  {
   "cell_type": "code",
   "execution_count": null,
   "metadata": {},
   "outputs": [],
   "source": []
  }
 ],
 "metadata": {
  "kernelspec": {
   "display_name": "Python 3",
   "language": "python",
   "name": "python3"
  },
  "language_info": {
   "codemirror_mode": {
    "name": "ipython",
    "version": 3
   },
   "file_extension": ".py",
   "mimetype": "text/x-python",
   "name": "python",
   "nbconvert_exporter": "python",
   "pygments_lexer": "ipython3",
   "version": "3.8.5"
  }
 },
 "nbformat": 4,
 "nbformat_minor": 4
}
